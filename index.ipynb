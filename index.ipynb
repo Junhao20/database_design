{
  "cells": [
    {
      "cell_type": "raw",
      "metadata": {},
      "source": [
        "---\n",
        "title: \"sql_notes\"\n",
        "---"
      ],
      "id": "27ecda37"
    },
    {
      "cell_type": "markdown",
      "metadata": {},
      "source": [
        "## This is a note for SQL and Data base design class\n",
        "\n",
        "### Example code chunk\n",
        "\n",
        "\n",
        "```{sql}\n",
        "select ...\n",
        "from ...\n",
        "where ...\n",
        "```"
      ],
      "id": "b6f15188"
    }
  ],
  "metadata": {
    "kernelspec": {
      "name": "python3",
      "language": "python",
      "display_name": "Python 3 (venv)"
    }
  },
  "nbformat": 4,
  "nbformat_minor": 5
}